{
 "cells": [
  {
   "cell_type": "markdown",
   "id": "b3a11f34",
   "metadata": {},
   "source": [
    "Mục đích: Xác định các giá trị không hợp lệ trong database"
   ]
  },
  {
   "cell_type": "code",
   "execution_count": null,
   "id": "2121fa08",
   "metadata": {},
   "outputs": [],
   "source": [
    "# 1.1. Import thư viện\n",
    "import numpy as np\n",
    "import pandas as pd\n",
    "import matplotlib.pyplot as plt\n",
    "\n",
    "# Cài đặt hiển thị\n",
    "pd.set_option('display.max_columns', None)  # Hiển thị tất cả các cột\n",
    "pd.set_option('display.width', 200)         # Giãn bề ngang bảng"
   ]
  },
  {
   "cell_type": "code",
   "execution_count": null,
   "id": "c50a685e",
   "metadata": {},
   "outputs": [],
   "source": [
    "# 1.2. Đọc dữ liệu\n",
    "df = pd.read_csv(\"E:/2. Project/Data/credit_risk.csv\")"
   ]
  },
  {
   "cell_type": "code",
   "execution_count": 7,
   "id": "e73e9a48",
   "metadata": {},
   "outputs": [
    {
     "name": "stdout",
     "output_type": "stream",
     "text": [
      "(16714, 11)\n",
      "   rev_util  age  late_30_59  debt_ratio  monthly_inc  open_credit  late_90  real_estate  late_60_89  dependents  dlq_2yrs\n",
      "0  0.006999   38           0    0.302150         5440            4        0            1           0           3         0\n",
      "1  0.704592   63           0    0.471441         8000            9        0            1           0           0         0\n",
      "2  0.063113   57           0    0.068586         5000           17        0            0           0           0         0\n",
      "3  0.368397   68           0    0.296273         6250           16        0            2           0           0         0\n",
      "4  1.000000   34           1    0.000000         3500            0        0            0           0           1         0\n",
      "<class 'pandas.core.frame.DataFrame'>\n",
      "RangeIndex: 16714 entries, 0 to 16713\n",
      "Data columns (total 11 columns):\n",
      " #   Column       Non-Null Count  Dtype  \n",
      "---  ------       --------------  -----  \n",
      " 0   rev_util     16714 non-null  float64\n",
      " 1   age          16714 non-null  int64  \n",
      " 2   late_30_59   16714 non-null  int64  \n",
      " 3   debt_ratio   16714 non-null  float64\n",
      " 4   monthly_inc  16714 non-null  int64  \n",
      " 5   open_credit  16714 non-null  int64  \n",
      " 6   late_90      16714 non-null  int64  \n",
      " 7   real_estate  16714 non-null  int64  \n",
      " 8   late_60_89   16714 non-null  int64  \n",
      " 9   dependents   16714 non-null  int64  \n",
      " 10  dlq_2yrs     16714 non-null  int64  \n",
      "dtypes: float64(2), int64(9)\n",
      "memory usage: 1.4 MB\n",
      "None\n"
     ]
    }
   ],
   "source": [
    "# 1.3. Kiểm tra nhanh dữ liệu sau khi import\n",
    "print(df.shape)         # Xem số dòng, số cột\n",
    "print(df.head())        # Xem nhanh 5 dòng đầu tiên\n",
    "print(df.info())        # Xem tổng quan thông tin dữ liệu (số biến, số bản ghi, kiểu dữ liệu, null)"
   ]
  },
  {
   "cell_type": "code",
   "execution_count": 8,
   "id": "9d3cda61",
   "metadata": {},
   "outputs": [
    {
     "name": "stdout",
     "output_type": "stream",
     "text": [
      "           rev_util           age    late_30_59    debt_ratio    monthly_inc   open_credit       late_90   real_estate    late_60_89    dependents      dlq_2yrs\n",
      "count  1.671400e+04  16714.000000  16714.000000  1.671400e+04   16714.000000  16714.000000  16714.000000  16714.000000  16714.000000  16714.000000  16714.000000\n",
      "mean   7.549085e+07     48.798672      1.110267  9.305968e+07    6118.120258      8.503709      0.863827      1.047445      0.734354      0.944358      0.500000\n",
      "std    3.229578e+08     13.906078      7.172890  4.738770e+08    5931.841779      5.370965      7.167576      1.272565      7.138737      1.198791      0.500015\n",
      "min    0.000000e+00     21.000000      0.000000  0.000000e+00       0.000000      0.000000      0.000000      0.000000      0.000000      0.000000      0.000000\n",
      "25%    8.239690e-02     38.000000      0.000000  1.559706e-01    3128.500000      5.000000      0.000000      0.000000      0.000000      0.000000      0.000000\n",
      "50%    4.430804e-01     48.000000      0.000000  3.222994e-01    5000.000000      8.000000      0.000000      1.000000      0.000000      0.000000      0.500000\n",
      "75%    9.266366e-01     58.000000      1.000000  5.334259e-01    7573.000000     11.000000      0.000000      2.000000      0.000000      2.000000      1.000000\n",
      "max    8.851852e+09    101.000000     98.000000  9.530092e+09  250000.000000     57.000000     98.000000     29.000000     98.000000      8.000000      1.000000\n"
     ]
    }
   ],
   "source": [
    "# 1.4. Thống kê mô tả các biến\n",
    "print(df.describe())"
   ]
  },
  {
   "cell_type": "code",
   "execution_count": null,
   "id": "76b93bf0",
   "metadata": {},
   "outputs": [
    {
     "name": "stdout",
     "output_type": "stream",
     "text": [
      "Số bản ghi debt_ratio > 1: 1217\n",
      "Số bản ghi rev_util > 1: 1166\n"
     ]
    }
   ],
   "source": [
    "# 1.5. Kiểm tra các giá trị outlier \n",
    "\n",
    "# Outlier debt_ratio > 1\n",
    "outlier_debt = df[df['debt_ratio'] > 1]\n",
    "\n",
    "# Outlier rev_util > 1\n",
    "outlier_rev = df[df['rev_util'] > 1]\n",
    "\n",
    "print(\"Số bản ghi debt_ratio > 1:\", len(outlier_debt))\n",
    "print(\"Số bản ghi rev_util > 1:\", len(outlier_rev))"
   ]
  }
 ],
 "metadata": {
  "kernelspec": {
   "display_name": "Python 3",
   "language": "python",
   "name": "python3"
  },
  "language_info": {
   "codemirror_mode": {
    "name": "ipython",
    "version": 3
   },
   "file_extension": ".py",
   "mimetype": "text/x-python",
   "name": "python",
   "nbconvert_exporter": "python",
   "pygments_lexer": "ipython3",
   "version": "3.13.7"
  }
 },
 "nbformat": 4,
 "nbformat_minor": 5
}
